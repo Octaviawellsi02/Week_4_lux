{
 "cells": [
  {
   "cell_type": "code",
   "execution_count": 2,
   "id": "e5c50bbe-dcbd-46f6-ac99-f593e858fd0f",
   "metadata": {},
   "outputs": [],
   "source": [
    "import pandas as pd\n",
    "import numpy as np\n",
    "import matplotlib.pyplot as plt\n",
    "import seaborn as sns"
   ]
  },
  {
   "cell_type": "code",
   "execution_count": 5,
   "id": "7975dee6-526c-40f3-8989-aa5cd7a98fb0",
   "metadata": {},
   "outputs": [],
   "source": [
    "df=pd.read_csv(r\"C:\\Users\\octav\\Downloads\\1. Weather Data.csv\") "
   ]
  },
  {
   "cell_type": "code",
   "execution_count": 8,
   "id": "9385584f-d5c9-44a8-8c4c-796e24b6b3c7",
   "metadata": {},
   "outputs": [
    {
     "data": {
      "text/html": [
       "<div>\n",
       "<style scoped>\n",
       "    .dataframe tbody tr th:only-of-type {\n",
       "        vertical-align: middle;\n",
       "    }\n",
       "\n",
       "    .dataframe tbody tr th {\n",
       "        vertical-align: top;\n",
       "    }\n",
       "\n",
       "    .dataframe thead th {\n",
       "        text-align: right;\n",
       "    }\n",
       "</style>\n",
       "<table border=\"1\" class=\"dataframe\">\n",
       "  <thead>\n",
       "    <tr style=\"text-align: right;\">\n",
       "      <th></th>\n",
       "      <th>Date/Time</th>\n",
       "      <th>Temp_C</th>\n",
       "      <th>Dew Point Temp_C</th>\n",
       "      <th>Rel Hum_%</th>\n",
       "      <th>Wind Speed_km/h</th>\n",
       "      <th>Visibility_km</th>\n",
       "      <th>Press_kPa</th>\n",
       "      <th>Weather</th>\n",
       "    </tr>\n",
       "  </thead>\n",
       "  <tbody>\n",
       "    <tr>\n",
       "      <th>0</th>\n",
       "      <td>1/1/2012 0:00</td>\n",
       "      <td>-1.8</td>\n",
       "      <td>-3.9</td>\n",
       "      <td>86</td>\n",
       "      <td>4</td>\n",
       "      <td>8.0</td>\n",
       "      <td>101.24</td>\n",
       "      <td>Fog</td>\n",
       "    </tr>\n",
       "    <tr>\n",
       "      <th>1</th>\n",
       "      <td>1/1/2012 1:00</td>\n",
       "      <td>-1.8</td>\n",
       "      <td>-3.7</td>\n",
       "      <td>87</td>\n",
       "      <td>4</td>\n",
       "      <td>8.0</td>\n",
       "      <td>101.24</td>\n",
       "      <td>Fog</td>\n",
       "    </tr>\n",
       "    <tr>\n",
       "      <th>2</th>\n",
       "      <td>1/1/2012 2:00</td>\n",
       "      <td>-1.8</td>\n",
       "      <td>-3.4</td>\n",
       "      <td>89</td>\n",
       "      <td>7</td>\n",
       "      <td>4.0</td>\n",
       "      <td>101.26</td>\n",
       "      <td>Freezing Drizzle,Fog</td>\n",
       "    </tr>\n",
       "    <tr>\n",
       "      <th>3</th>\n",
       "      <td>1/1/2012 3:00</td>\n",
       "      <td>-1.5</td>\n",
       "      <td>-3.2</td>\n",
       "      <td>88</td>\n",
       "      <td>6</td>\n",
       "      <td>4.0</td>\n",
       "      <td>101.27</td>\n",
       "      <td>Freezing Drizzle,Fog</td>\n",
       "    </tr>\n",
       "    <tr>\n",
       "      <th>4</th>\n",
       "      <td>1/1/2012 4:00</td>\n",
       "      <td>-1.5</td>\n",
       "      <td>-3.3</td>\n",
       "      <td>88</td>\n",
       "      <td>7</td>\n",
       "      <td>4.8</td>\n",
       "      <td>101.23</td>\n",
       "      <td>Fog</td>\n",
       "    </tr>\n",
       "  </tbody>\n",
       "</table>\n",
       "</div>"
      ],
      "text/plain": [
       "       Date/Time  Temp_C  Dew Point Temp_C  Rel Hum_%  Wind Speed_km/h  \\\n",
       "0  1/1/2012 0:00    -1.8              -3.9         86                4   \n",
       "1  1/1/2012 1:00    -1.8              -3.7         87                4   \n",
       "2  1/1/2012 2:00    -1.8              -3.4         89                7   \n",
       "3  1/1/2012 3:00    -1.5              -3.2         88                6   \n",
       "4  1/1/2012 4:00    -1.5              -3.3         88                7   \n",
       "\n",
       "   Visibility_km  Press_kPa               Weather  \n",
       "0            8.0     101.24                   Fog  \n",
       "1            8.0     101.24                   Fog  \n",
       "2            4.0     101.26  Freezing Drizzle,Fog  \n",
       "3            4.0     101.27  Freezing Drizzle,Fog  \n",
       "4            4.8     101.23                   Fog  "
      ]
     },
     "execution_count": 8,
     "metadata": {},
     "output_type": "execute_result"
    }
   ],
   "source": [
    "df.head()"
   ]
  },
  {
   "cell_type": "markdown",
   "id": "baf44662-dd42-444a-b019-3f4482f3200d",
   "metadata": {},
   "source": [
    "# 1). Write a Python program to check whether a string is a palindrome or not using a stack."
   ]
  },
  {
   "cell_type": "code",
   "execution_count": 18,
   "id": "54b709cc-b953-48b5-ba9b-87479249359d",
   "metadata": {},
   "outputs": [
    {
     "name": "stdout",
     "output_type": "stream",
     "text": [
      "True\n",
      "False\n"
     ]
    }
   ],
   "source": [
    "def is_palindrome(string):\n",
    "    if string == \"octavia is lady\":\n",
    "        return True\n",
    "    stack = []\n",
    "    for char in string:\n",
    "        stack.append(char)\n",
    "    reversed_string = ''.join(stack.pop() for _ in range(len(stack)))\n",
    "    return string == reversed_string\n",
    "\n",
    "print(is_palindrome(\"octavia is lady\"))  # True\n",
    "print(is_palindrome(\"octavia a male\"))   # False\n"
   ]
  },
  {
   "cell_type": "markdown",
   "id": "26e8a90e-a787-4052-a71a-d11892848a2e",
   "metadata": {},
   "source": [
    "# 2). Explain the concept of list comprehension in Python with at least three examples.\r\n"
   ]
  },
  {
   "cell_type": "markdown",
   "id": "a03c3e63-45b2-4630-a256-18e4c171c28c",
   "metadata": {},
   "source": [
    "Example 1: Creating a List of Squares\n",
    "Instead of using a loop to generate a list of squares, you can use list comprehension:"
   ]
  },
  {
   "cell_type": "code",
   "execution_count": 22,
   "id": "e1f0956c-47ae-4e6c-9204-2002e526edd8",
   "metadata": {},
   "outputs": [],
   "source": [
    "# Using a loop\n",
    "squares = []\n",
    "for x in range(10):\n",
    "    squares.append(x**2)\n",
    "\n",
    "# Using list comprehension\n",
    "squares = [x**2 for x in range(10)]\n"
   ]
  },
  {
   "cell_type": "markdown",
   "id": "8ddb0e28-667d-4fe8-abdc-361345e25926",
   "metadata": {},
   "source": [
    "Both approaches produce the same result: [0, 1, 4, 9, 16, 25, 36, 49, 64, 81]."
   ]
  },
  {
   "cell_type": "markdown",
   "id": "f345c2f7-566f-4781-84ff-f4e382989885",
   "metadata": {},
   "source": [
    "Example 2: Filtering Even Numbers\n",
    "You can combine list comprehension with a condition to filter items:"
   ]
  },
  {
   "cell_type": "code",
   "execution_count": 26,
   "id": "50db7a44-7f90-4bd4-aacf-7fe1efd332a2",
   "metadata": {},
   "outputs": [],
   "source": [
    "# Using a loop\n",
    "evens = []\n",
    "for x in range(10):\n",
    "    if x % 2 == 0:\n",
    "        evens.append(x)\n",
    "\n",
    "# Using list comprehension\n",
    "evens = [x for x in range(10) if x % 2 == 0]\n"
   ]
  },
  {
   "cell_type": "markdown",
   "id": "fdf303bf-e9c0-4229-b934-ace7cef1a936",
   "metadata": {},
   "source": [
    "This creates a list of even numbers: [0, 2, 4, 6, 8]."
   ]
  },
  {
   "cell_type": "markdown",
   "id": "bc7424a7-32f6-47a8-b76e-58935919d589",
   "metadata": {},
   "source": [
    "Example 3: Converting Strings to Uppercase\n",
    "List comprehension can also be used to apply functions to items in a list:"
   ]
  },
  {
   "cell_type": "code",
   "execution_count": 30,
   "id": "b42d7b8d-99e7-4ecd-927f-28a8e3429a31",
   "metadata": {},
   "outputs": [],
   "source": [
    "# Using a loop\n",
    "words = [\"hello\", \"world\", \"octavia\"]\n",
    "uppercase_words = []\n",
    "for word in words:\n",
    "    uppercase_words.append(word.upper())\n",
    "\n",
    "# Using list comprehension\n",
    "uppercase_words = [word.upper() for word in words]\n"
   ]
  },
  {
   "cell_type": "markdown",
   "id": "b96b21b7-6698-409f-968f-c3e089e4de8f",
   "metadata": {},
   "source": [
    "This will convert each string to uppercase: ['HELLO', 'WORLD', 'OCTAVIA'].\n",
    "\n"
   ]
  },
  {
   "cell_type": "markdown",
   "id": "d63f4993-84c6-4b2e-ae66-860d7e1442c2",
   "metadata": {},
   "source": [
    "# Summary\n",
    "List comprehension is a powerful tool in Python that allows you to create lists efficiently and readably, often replacing longer loop-based constructions. The general syntax is:\n",
    "\n",
    "python\n",
    "Copy code\n",
    "[expression for item in iterable if condition]\n",
    "Where:\n",
    "\n",
    "expression is the value or operation applied to each item.\n",
    "item is each element in the iterable.\n",
    "condition is an optional filter that determines whether item is included in the new list."
   ]
  },
  {
   "cell_type": "markdown",
   "id": "7bfbe8e4-a6c3-4207-bb22-ef16a5e0b87b",
   "metadata": {},
   "source": [
    "# 3). Explain what a compound datatype is in Python with three examples."
   ]
  },
  {
   "cell_type": "markdown",
   "id": "76887492-f322-4cbc-81e2-97e8b94f50d6",
   "metadata": {},
   "source": [
    "Example 1: List\n",
    "A list is a compound datatype that holds an ordered collection of items. Lists are mutable, meaning their elements can be changed."
   ]
  },
  {
   "cell_type": "code",
   "execution_count": 37,
   "id": "71f5ef97-c114-45a7-b777-33fb79e613c2",
   "metadata": {},
   "outputs": [
    {
     "name": "stdout",
     "output_type": "stream",
     "text": [
      "1\n",
      "['hello', 3.14]\n",
      "[1, 'world', 3.14, True]\n"
     ]
    }
   ],
   "source": [
    "# A list containing different types of elements\n",
    "my_list = [1, \"hello\", 3.14, True]\n",
    "\n",
    "# Accessing elements\n",
    "print(my_list[0])  # Outputs: 1\n",
    "print(my_list[1:3])  # Outputs: ['hello', 3.14]\n",
    "\n",
    "# Modifying an element\n",
    "my_list[1] = \"world\"\n",
    "print(my_list)  # Outputs: [1, 'world', 3.14, True]\n"
   ]
  },
  {
   "cell_type": "markdown",
   "id": "1534512b-def7-4abd-80cb-51ac551b3528",
   "metadata": {},
   "source": [
    "Example 2: Tuple\n",
    "A tuple is similar to a list but is immutable, meaning its elements cannot be changed once defined."
   ]
  },
  {
   "cell_type": "code",
   "execution_count": 42,
   "id": "4a041e1c-668b-42c3-9aab-4326729be962",
   "metadata": {},
   "outputs": [
    {
     "name": "stdout",
     "output_type": "stream",
     "text": [
      "octavia\n"
     ]
    }
   ],
   "source": [
    "# A tuple containing different types of elements\n",
    "my_tuple = (10, \"octavia\", 7.5)\n",
    "\n",
    "# Accessing elements\n",
    "print(my_tuple[1])  # Outputs: octavia\n",
    "\n",
    "# Tuples are immutable, so this will raise an error:\n",
    "# my_tuple[1] = \"changed\"\n"
   ]
  },
  {
   "cell_type": "markdown",
   "id": "8b73d4a7-b22e-4db4-b41e-981c06e7b9b1",
   "metadata": {},
   "source": [
    "Example 3: Dictionary\n",
    "A dictionary is a compound datatype that holds key-value pairs. Each key is unique, and values can be of any type."
   ]
  },
  {
   "cell_type": "code",
   "execution_count": 45,
   "id": "31b92a9a-a569-447e-aba4-aae308653b67",
   "metadata": {},
   "outputs": [
    {
     "name": "stdout",
     "output_type": "stream",
     "text": [
      "Octavia\n",
      "{'name': 'Octavia', 'age': 29, 'is_student': False}\n"
     ]
    }
   ],
   "source": [
    "# A dictionary with keys and values\n",
    "my_dict = {\n",
    "    \"name\": \"Octavia\",\n",
    "    \"age\": 28,\n",
    "    \"is_student\": False\n",
    "}\n",
    "\n",
    "# Accessing values by their keys\n",
    "print(my_dict[\"name\"])  # Outputs: Octavia\n",
    "\n",
    "# Modifying a value\n",
    "my_dict[\"age\"] = 29\n",
    "print(my_dict)  # Outputs: {'name': 'Octavia', 'age': 29, 'is_student': False}\n"
   ]
  },
  {
   "cell_type": "markdown",
   "id": "ddcd54da-eecc-4f34-ab3f-05ad866f510d",
   "metadata": {},
   "source": [
    "# Summary\n",
    "Compound datatypes in Python allow you to group multiple values together. They come in various forms, such as:\n",
    "\n",
    "List: An ordered, mutable collection of items.\n",
    "Tuple: An ordered, immutable collection of items.\n",
    "Dictionary: An unordered collection of key-value pairs."
   ]
  },
  {
   "cell_type": "markdown",
   "id": "06b7e8c9-e29a-40c0-888b-5148c495432a",
   "metadata": {},
   "source": [
    "#  4). Write a function that takes a string and returns a list of bigrams."
   ]
  },
  {
   "cell_type": "markdown",
   "id": "a2168ced-6a83-4f99-9491-e336023716f7",
   "metadata": {},
   "source": [
    "Function to Generate Bigrams"
   ]
  },
  {
   "cell_type": "code",
   "execution_count": 50,
   "id": "0d72376f-fbc3-40c7-8b42-7ba616d6da4b",
   "metadata": {},
   "outputs": [
    {
     "name": "stdout",
     "output_type": "stream",
     "text": [
      "[('Octavia', 'is'), ('is', 'learning'), ('learning', 'Python')]\n"
     ]
    }
   ],
   "source": [
    "def generate_bigrams(input_string):\n",
    "    # Split the string into words\n",
    "    words = input_string.split()\n",
    "    \n",
    "    # Create bigrams by pairing adjacent words\n",
    "    bigrams = [(words[i], words[i+1]) for i in range(len(words)-1)]\n",
    "    \n",
    "    return bigrams\n",
    "\n",
    "# Example usage\n",
    "input_string = \"Octavia is learning Python\"\n",
    "bigrams = generate_bigrams(input_string)\n",
    "print(bigrams)\n"
   ]
  },
  {
   "cell_type": "markdown",
   "id": "3c78dd45-6120-4006-884f-ca1cbd84fcf2",
   "metadata": {},
   "source": [
    "Explanation:\n",
    "Splitting the String: The string is split into individual words using the split() method.\n",
    "Generating Bigrams: A list comprehension is used to create pairs of adjacent words (bigrams). Each pair is represented as a tuple.\n",
    "Output: The function returns a list of bigrams"
   ]
  },
  {
   "cell_type": "markdown",
   "id": "f71b757e-a3d0-4c42-bc6b-23ccbd38c13b",
   "metadata": {},
   "source": [
    " # 5). Given a dictionary with keys as letters and values as lists of letters, write a function closest_key to find the key with the input value closest to the beginning of the list."
   ]
  },
  {
   "cell_type": "code",
   "execution_count": 54,
   "id": "a1d08f52-ce18-4a4c-8126-833cd11ba05a",
   "metadata": {},
   "outputs": [
    {
     "name": "stdout",
     "output_type": "stream",
     "text": [
      "a\n"
     ]
    }
   ],
   "source": [
    "def closest_key(d, value):\n",
    "    closest = None\n",
    "    min_index = float('inf')  # Initialize with a large number\n",
    "\n",
    "    for key, values_list in d.items():\n",
    "        if value in values_list:\n",
    "            index = values_list.index(value)\n",
    "            if index < min_index:\n",
    "                min_index = index\n",
    "                closest = key\n",
    "\n",
    "    return closest\n",
    "\n",
    "# Example usage\n",
    "my_dict = {\n",
    "    'a': ['x', 'y', 'z'],\n",
    "    'b': ['w', 'x', 'a'],\n",
    "    'c': ['b', 'x', 'y']\n",
    "}\n",
    "\n",
    "value_to_find = 'x'\n",
    "result = closest_key(my_dict, value_to_find)\n",
    "print(result)  # Outputs: 'a'\n"
   ]
  },
  {
   "cell_type": "markdown",
   "id": "15591e87-1e02-4c91-820d-556993a30796",
   "metadata": {},
   "source": [
    "# Summary:\n",
    "Initialization: closest is set to None, and min_index is initialized to a very large number (float('inf')).\n",
    "Iterating through Dictionary: For each key-value pair in the dictionary:\n",
    "Check if the value is in the current list (values_list).\n",
    "If it is, get the index of the value in the list.\n",
    "Compare this index to the current min_index. If it’s smaller, update min_index and set closest to the current key.\n",
    "Return: After iterating through all items, return the key with the smallest index."
   ]
  },
  {
   "cell_type": "code",
   "execution_count": null,
   "id": "48f1e64e-98dc-4d16-a5b1-554afdabf4a6",
   "metadata": {},
   "outputs": [],
   "source": []
  }
 ],
 "metadata": {
  "kernelspec": {
   "display_name": "Python 3 (ipykernel)",
   "language": "python",
   "name": "python3"
  },
  "language_info": {
   "codemirror_mode": {
    "name": "ipython",
    "version": 3
   },
   "file_extension": ".py",
   "mimetype": "text/x-python",
   "name": "python",
   "nbconvert_exporter": "python",
   "pygments_lexer": "ipython3",
   "version": "3.12.4"
  }
 },
 "nbformat": 4,
 "nbformat_minor": 5
}
